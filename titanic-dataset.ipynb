{
 "cells": [
  {
   "cell_type": "markdown",
   "id": "52148cb7",
   "metadata": {
    "_cell_guid": "b1076dfc-b9ad-4769-8c92-a6c4dae69d19",
    "_uuid": "8f2839f25d086af736a60e9eeb907d3b93b6e0e5",
    "papermill": {
     "duration": 0.013574,
     "end_time": "2023-12-28T06:27:35.332746",
     "exception": false,
     "start_time": "2023-12-28T06:27:35.319172",
     "status": "completed"
    },
    "tags": []
   },
   "source": [
    "# Importing Libraries"
   ]
  },
  {
   "cell_type": "code",
   "execution_count": 1,
   "id": "cf37d144",
   "metadata": {
    "execution": {
     "iopub.execute_input": "2023-12-28T06:27:35.360414Z",
     "iopub.status.busy": "2023-12-28T06:27:35.360014Z",
     "iopub.status.idle": "2023-12-28T06:27:37.618201Z",
     "shell.execute_reply": "2023-12-28T06:27:37.617060Z"
    },
    "papermill": {
     "duration": 2.27557,
     "end_time": "2023-12-28T06:27:37.621327",
     "exception": false,
     "start_time": "2023-12-28T06:27:35.345757",
     "status": "completed"
    },
    "tags": []
   },
   "outputs": [],
   "source": [
    "import numpy as np\n",
    "import pandas as pd\n",
    "from sklearn.preprocessing import MinMaxScaler\n",
    "from sklearn.model_selection import train_test_split\n",
    "from sklearn.ensemble import GradientBoostingClassifier\n",
    "from sklearn.metrics import classification_report, confusion_matrix"
   ]
  },
  {
   "cell_type": "markdown",
   "id": "f23a5650",
   "metadata": {
    "papermill": {
     "duration": 0.012403,
     "end_time": "2023-12-28T06:27:37.646907",
     "exception": false,
     "start_time": "2023-12-28T06:27:37.634504",
     "status": "completed"
    },
    "tags": []
   },
   "source": [
    "# Import Datasets - train and test"
   ]
  },
  {
   "cell_type": "code",
   "execution_count": 2,
   "id": "ad08d725",
   "metadata": {
    "execution": {
     "iopub.execute_input": "2023-12-28T06:27:37.674109Z",
     "iopub.status.busy": "2023-12-28T06:27:37.673536Z",
     "iopub.status.idle": "2023-12-28T06:27:37.712291Z",
     "shell.execute_reply": "2023-12-28T06:27:37.711038Z"
    },
    "papermill": {
     "duration": 0.055629,
     "end_time": "2023-12-28T06:27:37.715095",
     "exception": false,
     "start_time": "2023-12-28T06:27:37.659466",
     "status": "completed"
    },
    "tags": []
   },
   "outputs": [],
   "source": [
    "train = pd.read_csv(\"train.csv\")\n",
    "test = pd.read_csv(\"test.csv\")"
   ]
  },
  {
   "cell_type": "code",
   "execution_count": 3,
   "id": "ba05af48",
   "metadata": {
    "execution": {
     "iopub.execute_input": "2023-12-28T06:27:37.742003Z",
     "iopub.status.busy": "2023-12-28T06:27:37.741593Z",
     "iopub.status.idle": "2023-12-28T06:27:37.778319Z",
     "shell.execute_reply": "2023-12-28T06:27:37.777502Z"
    },
    "papermill": {
     "duration": 0.053131,
     "end_time": "2023-12-28T06:27:37.780874",
     "exception": false,
     "start_time": "2023-12-28T06:27:37.727743",
     "status": "completed"
    },
    "tags": []
   },
   "outputs": [
    {
     "name": "stdout",
     "output_type": "stream",
     "text": [
      "<class 'pandas.core.frame.DataFrame'>\n",
      "RangeIndex: 891 entries, 0 to 890\n",
      "Data columns (total 12 columns):\n",
      " #   Column       Non-Null Count  Dtype  \n",
      "---  ------       --------------  -----  \n",
      " 0   PassengerId  891 non-null    int64  \n",
      " 1   Survived     891 non-null    int64  \n",
      " 2   Pclass       891 non-null    int64  \n",
      " 3   Name         891 non-null    object \n",
      " 4   Sex          891 non-null    object \n",
      " 5   Age          714 non-null    float64\n",
      " 6   SibSp        891 non-null    int64  \n",
      " 7   Parch        891 non-null    int64  \n",
      " 8   Ticket       891 non-null    object \n",
      " 9   Fare         891 non-null    float64\n",
      " 10  Cabin        204 non-null    object \n",
      " 11  Embarked     889 non-null    object \n",
      "dtypes: float64(2), int64(5), object(5)\n",
      "memory usage: 83.7+ KB\n"
     ]
    }
   ],
   "source": [
    "train.info()"
   ]
  },
  {
   "cell_type": "code",
   "execution_count": 4,
   "id": "c7c21d1d",
   "metadata": {
    "execution": {
     "iopub.execute_input": "2023-12-28T06:27:37.808085Z",
     "iopub.status.busy": "2023-12-28T06:27:37.807679Z",
     "iopub.status.idle": "2023-12-28T06:27:37.820982Z",
     "shell.execute_reply": "2023-12-28T06:27:37.819423Z"
    },
    "papermill": {
     "duration": 0.030913,
     "end_time": "2023-12-28T06:27:37.824506",
     "exception": false,
     "start_time": "2023-12-28T06:27:37.793593",
     "status": "completed"
    },
    "tags": []
   },
   "outputs": [
    {
     "name": "stdout",
     "output_type": "stream",
     "text": [
      "<class 'pandas.core.frame.DataFrame'>\n",
      "RangeIndex: 418 entries, 0 to 417\n",
      "Data columns (total 11 columns):\n",
      " #   Column       Non-Null Count  Dtype  \n",
      "---  ------       --------------  -----  \n",
      " 0   PassengerId  418 non-null    int64  \n",
      " 1   Pclass       418 non-null    int64  \n",
      " 2   Name         418 non-null    object \n",
      " 3   Sex          418 non-null    object \n",
      " 4   Age          332 non-null    float64\n",
      " 5   SibSp        418 non-null    int64  \n",
      " 6   Parch        418 non-null    int64  \n",
      " 7   Ticket       418 non-null    object \n",
      " 8   Fare         417 non-null    float64\n",
      " 9   Cabin        91 non-null     object \n",
      " 10  Embarked     418 non-null    object \n",
      "dtypes: float64(2), int64(4), object(5)\n",
      "memory usage: 36.0+ KB\n"
     ]
    }
   ],
   "source": [
    "test.info()"
   ]
  },
  {
   "cell_type": "markdown",
   "id": "0381266e",
   "metadata": {
    "papermill": {
     "duration": 0.012832,
     "end_time": "2023-12-28T06:27:37.854206",
     "exception": false,
     "start_time": "2023-12-28T06:27:37.841374",
     "status": "completed"
    },
    "tags": []
   },
   "source": [
    "# Data Preprocessing"
   ]
  },
  {
   "cell_type": "code",
   "execution_count": 5,
   "id": "faa755d4",
   "metadata": {
    "execution": {
     "iopub.execute_input": "2023-12-28T06:27:37.881571Z",
     "iopub.status.busy": "2023-12-28T06:27:37.881065Z",
     "iopub.status.idle": "2023-12-28T06:27:37.891136Z",
     "shell.execute_reply": "2023-12-28T06:27:37.890104Z"
    },
    "papermill": {
     "duration": 0.026354,
     "end_time": "2023-12-28T06:27:37.893292",
     "exception": false,
     "start_time": "2023-12-28T06:27:37.866938",
     "status": "completed"
    },
    "tags": []
   },
   "outputs": [],
   "source": [
    "#Set 'PassengerId' feature as Index\n",
    "train.set_index(\"PassengerId\", inplace=True)\n",
    "test.set_index(\"PassengerId\", inplace=True)"
   ]
  },
  {
   "cell_type": "code",
   "execution_count": 6,
   "id": "7659a77b",
   "metadata": {
    "execution": {
     "iopub.execute_input": "2023-12-28T06:27:37.921401Z",
     "iopub.status.busy": "2023-12-28T06:27:37.920635Z",
     "iopub.status.idle": "2023-12-28T06:27:37.948547Z",
     "shell.execute_reply": "2023-12-28T06:27:37.947726Z"
    },
    "papermill": {
     "duration": 0.04477,
     "end_time": "2023-12-28T06:27:37.950810",
     "exception": false,
     "start_time": "2023-12-28T06:27:37.906040",
     "status": "completed"
    },
    "tags": []
   },
   "outputs": [
    {
     "data": {
      "text/html": [
       "<div>\n",
       "<style scoped>\n",
       "    .dataframe tbody tr th:only-of-type {\n",
       "        vertical-align: middle;\n",
       "    }\n",
       "\n",
       "    .dataframe tbody tr th {\n",
       "        vertical-align: top;\n",
       "    }\n",
       "\n",
       "    .dataframe thead th {\n",
       "        text-align: right;\n",
       "    }\n",
       "</style>\n",
       "<table border=\"1\" class=\"dataframe\">\n",
       "  <thead>\n",
       "    <tr style=\"text-align: right;\">\n",
       "      <th></th>\n",
       "      <th>Survived</th>\n",
       "      <th>Pclass</th>\n",
       "      <th>Name</th>\n",
       "      <th>Sex</th>\n",
       "      <th>Age</th>\n",
       "      <th>SibSp</th>\n",
       "      <th>Parch</th>\n",
       "      <th>Ticket</th>\n",
       "      <th>Fare</th>\n",
       "      <th>Cabin</th>\n",
       "      <th>Embarked</th>\n",
       "    </tr>\n",
       "    <tr>\n",
       "      <th>PassengerId</th>\n",
       "      <th></th>\n",
       "      <th></th>\n",
       "      <th></th>\n",
       "      <th></th>\n",
       "      <th></th>\n",
       "      <th></th>\n",
       "      <th></th>\n",
       "      <th></th>\n",
       "      <th></th>\n",
       "      <th></th>\n",
       "      <th></th>\n",
       "    </tr>\n",
       "  </thead>\n",
       "  <tbody>\n",
       "    <tr>\n",
       "      <th>1</th>\n",
       "      <td>0</td>\n",
       "      <td>3</td>\n",
       "      <td>Braund, Mr. Owen Harris</td>\n",
       "      <td>male</td>\n",
       "      <td>22.0</td>\n",
       "      <td>1</td>\n",
       "      <td>0</td>\n",
       "      <td>A/5 21171</td>\n",
       "      <td>7.2500</td>\n",
       "      <td>NaN</td>\n",
       "      <td>S</td>\n",
       "    </tr>\n",
       "    <tr>\n",
       "      <th>2</th>\n",
       "      <td>1</td>\n",
       "      <td>1</td>\n",
       "      <td>Cumings, Mrs. John Bradley (Florence Briggs Th...</td>\n",
       "      <td>female</td>\n",
       "      <td>38.0</td>\n",
       "      <td>1</td>\n",
       "      <td>0</td>\n",
       "      <td>PC 17599</td>\n",
       "      <td>71.2833</td>\n",
       "      <td>C85</td>\n",
       "      <td>C</td>\n",
       "    </tr>\n",
       "    <tr>\n",
       "      <th>3</th>\n",
       "      <td>1</td>\n",
       "      <td>3</td>\n",
       "      <td>Heikkinen, Miss. Laina</td>\n",
       "      <td>female</td>\n",
       "      <td>26.0</td>\n",
       "      <td>0</td>\n",
       "      <td>0</td>\n",
       "      <td>STON/O2. 3101282</td>\n",
       "      <td>7.9250</td>\n",
       "      <td>NaN</td>\n",
       "      <td>S</td>\n",
       "    </tr>\n",
       "    <tr>\n",
       "      <th>4</th>\n",
       "      <td>1</td>\n",
       "      <td>1</td>\n",
       "      <td>Futrelle, Mrs. Jacques Heath (Lily May Peel)</td>\n",
       "      <td>female</td>\n",
       "      <td>35.0</td>\n",
       "      <td>1</td>\n",
       "      <td>0</td>\n",
       "      <td>113803</td>\n",
       "      <td>53.1000</td>\n",
       "      <td>C123</td>\n",
       "      <td>S</td>\n",
       "    </tr>\n",
       "    <tr>\n",
       "      <th>5</th>\n",
       "      <td>0</td>\n",
       "      <td>3</td>\n",
       "      <td>Allen, Mr. William Henry</td>\n",
       "      <td>male</td>\n",
       "      <td>35.0</td>\n",
       "      <td>0</td>\n",
       "      <td>0</td>\n",
       "      <td>373450</td>\n",
       "      <td>8.0500</td>\n",
       "      <td>NaN</td>\n",
       "      <td>S</td>\n",
       "    </tr>\n",
       "    <tr>\n",
       "      <th>...</th>\n",
       "      <td>...</td>\n",
       "      <td>...</td>\n",
       "      <td>...</td>\n",
       "      <td>...</td>\n",
       "      <td>...</td>\n",
       "      <td>...</td>\n",
       "      <td>...</td>\n",
       "      <td>...</td>\n",
       "      <td>...</td>\n",
       "      <td>...</td>\n",
       "      <td>...</td>\n",
       "    </tr>\n",
       "    <tr>\n",
       "      <th>887</th>\n",
       "      <td>0</td>\n",
       "      <td>2</td>\n",
       "      <td>Montvila, Rev. Juozas</td>\n",
       "      <td>male</td>\n",
       "      <td>27.0</td>\n",
       "      <td>0</td>\n",
       "      <td>0</td>\n",
       "      <td>211536</td>\n",
       "      <td>13.0000</td>\n",
       "      <td>NaN</td>\n",
       "      <td>S</td>\n",
       "    </tr>\n",
       "    <tr>\n",
       "      <th>888</th>\n",
       "      <td>1</td>\n",
       "      <td>1</td>\n",
       "      <td>Graham, Miss. Margaret Edith</td>\n",
       "      <td>female</td>\n",
       "      <td>19.0</td>\n",
       "      <td>0</td>\n",
       "      <td>0</td>\n",
       "      <td>112053</td>\n",
       "      <td>30.0000</td>\n",
       "      <td>B42</td>\n",
       "      <td>S</td>\n",
       "    </tr>\n",
       "    <tr>\n",
       "      <th>889</th>\n",
       "      <td>0</td>\n",
       "      <td>3</td>\n",
       "      <td>Johnston, Miss. Catherine Helen \"Carrie\"</td>\n",
       "      <td>female</td>\n",
       "      <td>NaN</td>\n",
       "      <td>1</td>\n",
       "      <td>2</td>\n",
       "      <td>W./C. 6607</td>\n",
       "      <td>23.4500</td>\n",
       "      <td>NaN</td>\n",
       "      <td>S</td>\n",
       "    </tr>\n",
       "    <tr>\n",
       "      <th>890</th>\n",
       "      <td>1</td>\n",
       "      <td>1</td>\n",
       "      <td>Behr, Mr. Karl Howell</td>\n",
       "      <td>male</td>\n",
       "      <td>26.0</td>\n",
       "      <td>0</td>\n",
       "      <td>0</td>\n",
       "      <td>111369</td>\n",
       "      <td>30.0000</td>\n",
       "      <td>C148</td>\n",
       "      <td>C</td>\n",
       "    </tr>\n",
       "    <tr>\n",
       "      <th>891</th>\n",
       "      <td>0</td>\n",
       "      <td>3</td>\n",
       "      <td>Dooley, Mr. Patrick</td>\n",
       "      <td>male</td>\n",
       "      <td>32.0</td>\n",
       "      <td>0</td>\n",
       "      <td>0</td>\n",
       "      <td>370376</td>\n",
       "      <td>7.7500</td>\n",
       "      <td>NaN</td>\n",
       "      <td>Q</td>\n",
       "    </tr>\n",
       "  </tbody>\n",
       "</table>\n",
       "<p>891 rows × 11 columns</p>\n",
       "</div>"
      ],
      "text/plain": [
       "             Survived  Pclass  \\\n",
       "PassengerId                     \n",
       "1                   0       3   \n",
       "2                   1       1   \n",
       "3                   1       3   \n",
       "4                   1       1   \n",
       "5                   0       3   \n",
       "...               ...     ...   \n",
       "887                 0       2   \n",
       "888                 1       1   \n",
       "889                 0       3   \n",
       "890                 1       1   \n",
       "891                 0       3   \n",
       "\n",
       "                                                          Name     Sex   Age  \\\n",
       "PassengerId                                                                    \n",
       "1                                      Braund, Mr. Owen Harris    male  22.0   \n",
       "2            Cumings, Mrs. John Bradley (Florence Briggs Th...  female  38.0   \n",
       "3                                       Heikkinen, Miss. Laina  female  26.0   \n",
       "4                 Futrelle, Mrs. Jacques Heath (Lily May Peel)  female  35.0   \n",
       "5                                     Allen, Mr. William Henry    male  35.0   \n",
       "...                                                        ...     ...   ...   \n",
       "887                                      Montvila, Rev. Juozas    male  27.0   \n",
       "888                               Graham, Miss. Margaret Edith  female  19.0   \n",
       "889                   Johnston, Miss. Catherine Helen \"Carrie\"  female   NaN   \n",
       "890                                      Behr, Mr. Karl Howell    male  26.0   \n",
       "891                                        Dooley, Mr. Patrick    male  32.0   \n",
       "\n",
       "             SibSp  Parch            Ticket     Fare Cabin Embarked  \n",
       "PassengerId                                                          \n",
       "1                1      0         A/5 21171   7.2500   NaN        S  \n",
       "2                1      0          PC 17599  71.2833   C85        C  \n",
       "3                0      0  STON/O2. 3101282   7.9250   NaN        S  \n",
       "4                1      0            113803  53.1000  C123        S  \n",
       "5                0      0            373450   8.0500   NaN        S  \n",
       "...            ...    ...               ...      ...   ...      ...  \n",
       "887              0      0            211536  13.0000   NaN        S  \n",
       "888              0      0            112053  30.0000   B42        S  \n",
       "889              1      2        W./C. 6607  23.4500   NaN        S  \n",
       "890              0      0            111369  30.0000  C148        C  \n",
       "891              0      0            370376   7.7500   NaN        Q  \n",
       "\n",
       "[891 rows x 11 columns]"
      ]
     },
     "execution_count": 6,
     "metadata": {},
     "output_type": "execute_result"
    }
   ],
   "source": [
    "train"
   ]
  },
  {
   "cell_type": "code",
   "execution_count": 7,
   "id": "d6aa8415",
   "metadata": {
    "execution": {
     "iopub.execute_input": "2023-12-28T06:27:37.980019Z",
     "iopub.status.busy": "2023-12-28T06:27:37.979116Z",
     "iopub.status.idle": "2023-12-28T06:27:38.001694Z",
     "shell.execute_reply": "2023-12-28T06:27:38.000641Z"
    },
    "papermill": {
     "duration": 0.039823,
     "end_time": "2023-12-28T06:27:38.004243",
     "exception": false,
     "start_time": "2023-12-28T06:27:37.964420",
     "status": "completed"
    },
    "tags": []
   },
   "outputs": [
    {
     "data": {
      "text/html": [
       "<div>\n",
       "<style scoped>\n",
       "    .dataframe tbody tr th:only-of-type {\n",
       "        vertical-align: middle;\n",
       "    }\n",
       "\n",
       "    .dataframe tbody tr th {\n",
       "        vertical-align: top;\n",
       "    }\n",
       "\n",
       "    .dataframe thead th {\n",
       "        text-align: right;\n",
       "    }\n",
       "</style>\n",
       "<table border=\"1\" class=\"dataframe\">\n",
       "  <thead>\n",
       "    <tr style=\"text-align: right;\">\n",
       "      <th></th>\n",
       "      <th>Pclass</th>\n",
       "      <th>Name</th>\n",
       "      <th>Sex</th>\n",
       "      <th>Age</th>\n",
       "      <th>SibSp</th>\n",
       "      <th>Parch</th>\n",
       "      <th>Ticket</th>\n",
       "      <th>Fare</th>\n",
       "      <th>Cabin</th>\n",
       "      <th>Embarked</th>\n",
       "    </tr>\n",
       "    <tr>\n",
       "      <th>PassengerId</th>\n",
       "      <th></th>\n",
       "      <th></th>\n",
       "      <th></th>\n",
       "      <th></th>\n",
       "      <th></th>\n",
       "      <th></th>\n",
       "      <th></th>\n",
       "      <th></th>\n",
       "      <th></th>\n",
       "      <th></th>\n",
       "    </tr>\n",
       "  </thead>\n",
       "  <tbody>\n",
       "    <tr>\n",
       "      <th>892</th>\n",
       "      <td>3</td>\n",
       "      <td>Kelly, Mr. James</td>\n",
       "      <td>male</td>\n",
       "      <td>34.5</td>\n",
       "      <td>0</td>\n",
       "      <td>0</td>\n",
       "      <td>330911</td>\n",
       "      <td>7.8292</td>\n",
       "      <td>NaN</td>\n",
       "      <td>Q</td>\n",
       "    </tr>\n",
       "    <tr>\n",
       "      <th>893</th>\n",
       "      <td>3</td>\n",
       "      <td>Wilkes, Mrs. James (Ellen Needs)</td>\n",
       "      <td>female</td>\n",
       "      <td>47.0</td>\n",
       "      <td>1</td>\n",
       "      <td>0</td>\n",
       "      <td>363272</td>\n",
       "      <td>7.0000</td>\n",
       "      <td>NaN</td>\n",
       "      <td>S</td>\n",
       "    </tr>\n",
       "    <tr>\n",
       "      <th>894</th>\n",
       "      <td>2</td>\n",
       "      <td>Myles, Mr. Thomas Francis</td>\n",
       "      <td>male</td>\n",
       "      <td>62.0</td>\n",
       "      <td>0</td>\n",
       "      <td>0</td>\n",
       "      <td>240276</td>\n",
       "      <td>9.6875</td>\n",
       "      <td>NaN</td>\n",
       "      <td>Q</td>\n",
       "    </tr>\n",
       "    <tr>\n",
       "      <th>895</th>\n",
       "      <td>3</td>\n",
       "      <td>Wirz, Mr. Albert</td>\n",
       "      <td>male</td>\n",
       "      <td>27.0</td>\n",
       "      <td>0</td>\n",
       "      <td>0</td>\n",
       "      <td>315154</td>\n",
       "      <td>8.6625</td>\n",
       "      <td>NaN</td>\n",
       "      <td>S</td>\n",
       "    </tr>\n",
       "    <tr>\n",
       "      <th>896</th>\n",
       "      <td>3</td>\n",
       "      <td>Hirvonen, Mrs. Alexander (Helga E Lindqvist)</td>\n",
       "      <td>female</td>\n",
       "      <td>22.0</td>\n",
       "      <td>1</td>\n",
       "      <td>1</td>\n",
       "      <td>3101298</td>\n",
       "      <td>12.2875</td>\n",
       "      <td>NaN</td>\n",
       "      <td>S</td>\n",
       "    </tr>\n",
       "    <tr>\n",
       "      <th>...</th>\n",
       "      <td>...</td>\n",
       "      <td>...</td>\n",
       "      <td>...</td>\n",
       "      <td>...</td>\n",
       "      <td>...</td>\n",
       "      <td>...</td>\n",
       "      <td>...</td>\n",
       "      <td>...</td>\n",
       "      <td>...</td>\n",
       "      <td>...</td>\n",
       "    </tr>\n",
       "    <tr>\n",
       "      <th>1305</th>\n",
       "      <td>3</td>\n",
       "      <td>Spector, Mr. Woolf</td>\n",
       "      <td>male</td>\n",
       "      <td>NaN</td>\n",
       "      <td>0</td>\n",
       "      <td>0</td>\n",
       "      <td>A.5. 3236</td>\n",
       "      <td>8.0500</td>\n",
       "      <td>NaN</td>\n",
       "      <td>S</td>\n",
       "    </tr>\n",
       "    <tr>\n",
       "      <th>1306</th>\n",
       "      <td>1</td>\n",
       "      <td>Oliva y Ocana, Dona. Fermina</td>\n",
       "      <td>female</td>\n",
       "      <td>39.0</td>\n",
       "      <td>0</td>\n",
       "      <td>0</td>\n",
       "      <td>PC 17758</td>\n",
       "      <td>108.9000</td>\n",
       "      <td>C105</td>\n",
       "      <td>C</td>\n",
       "    </tr>\n",
       "    <tr>\n",
       "      <th>1307</th>\n",
       "      <td>3</td>\n",
       "      <td>Saether, Mr. Simon Sivertsen</td>\n",
       "      <td>male</td>\n",
       "      <td>38.5</td>\n",
       "      <td>0</td>\n",
       "      <td>0</td>\n",
       "      <td>SOTON/O.Q. 3101262</td>\n",
       "      <td>7.2500</td>\n",
       "      <td>NaN</td>\n",
       "      <td>S</td>\n",
       "    </tr>\n",
       "    <tr>\n",
       "      <th>1308</th>\n",
       "      <td>3</td>\n",
       "      <td>Ware, Mr. Frederick</td>\n",
       "      <td>male</td>\n",
       "      <td>NaN</td>\n",
       "      <td>0</td>\n",
       "      <td>0</td>\n",
       "      <td>359309</td>\n",
       "      <td>8.0500</td>\n",
       "      <td>NaN</td>\n",
       "      <td>S</td>\n",
       "    </tr>\n",
       "    <tr>\n",
       "      <th>1309</th>\n",
       "      <td>3</td>\n",
       "      <td>Peter, Master. Michael J</td>\n",
       "      <td>male</td>\n",
       "      <td>NaN</td>\n",
       "      <td>1</td>\n",
       "      <td>1</td>\n",
       "      <td>2668</td>\n",
       "      <td>22.3583</td>\n",
       "      <td>NaN</td>\n",
       "      <td>C</td>\n",
       "    </tr>\n",
       "  </tbody>\n",
       "</table>\n",
       "<p>418 rows × 10 columns</p>\n",
       "</div>"
      ],
      "text/plain": [
       "             Pclass                                          Name     Sex  \\\n",
       "PassengerId                                                                 \n",
       "892               3                              Kelly, Mr. James    male   \n",
       "893               3              Wilkes, Mrs. James (Ellen Needs)  female   \n",
       "894               2                     Myles, Mr. Thomas Francis    male   \n",
       "895               3                              Wirz, Mr. Albert    male   \n",
       "896               3  Hirvonen, Mrs. Alexander (Helga E Lindqvist)  female   \n",
       "...             ...                                           ...     ...   \n",
       "1305              3                            Spector, Mr. Woolf    male   \n",
       "1306              1                  Oliva y Ocana, Dona. Fermina  female   \n",
       "1307              3                  Saether, Mr. Simon Sivertsen    male   \n",
       "1308              3                           Ware, Mr. Frederick    male   \n",
       "1309              3                      Peter, Master. Michael J    male   \n",
       "\n",
       "              Age  SibSp  Parch              Ticket      Fare Cabin Embarked  \n",
       "PassengerId                                                                   \n",
       "892          34.5      0      0              330911    7.8292   NaN        Q  \n",
       "893          47.0      1      0              363272    7.0000   NaN        S  \n",
       "894          62.0      0      0              240276    9.6875   NaN        Q  \n",
       "895          27.0      0      0              315154    8.6625   NaN        S  \n",
       "896          22.0      1      1             3101298   12.2875   NaN        S  \n",
       "...           ...    ...    ...                 ...       ...   ...      ...  \n",
       "1305          NaN      0      0           A.5. 3236    8.0500   NaN        S  \n",
       "1306         39.0      0      0            PC 17758  108.9000  C105        C  \n",
       "1307         38.5      0      0  SOTON/O.Q. 3101262    7.2500   NaN        S  \n",
       "1308          NaN      0      0              359309    8.0500   NaN        S  \n",
       "1309          NaN      1      1                2668   22.3583   NaN        C  \n",
       "\n",
       "[418 rows x 10 columns]"
      ]
     },
     "execution_count": 7,
     "metadata": {},
     "output_type": "execute_result"
    }
   ],
   "source": [
    "test"
   ]
  },
  {
   "cell_type": "markdown",
   "id": "f5daab3e",
   "metadata": {
    "papermill": {
     "duration": 0.013443,
     "end_time": "2023-12-28T06:27:38.031667",
     "exception": false,
     "start_time": "2023-12-28T06:27:38.018224",
     "status": "completed"
    },
    "tags": []
   },
   "source": [
    "# Define features(X) and target label(y) of Training and Testing data"
   ]
  },
  {
   "cell_type": "code",
   "execution_count": 8,
   "id": "66cfd398",
   "metadata": {
    "execution": {
     "iopub.execute_input": "2023-12-28T06:27:38.060664Z",
     "iopub.status.busy": "2023-12-28T06:27:38.060263Z",
     "iopub.status.idle": "2023-12-28T06:27:38.065702Z",
     "shell.execute_reply": "2023-12-28T06:27:38.064493Z"
    },
    "papermill": {
     "duration": 0.022762,
     "end_time": "2023-12-28T06:27:38.068028",
     "exception": false,
     "start_time": "2023-12-28T06:27:38.045266",
     "status": "completed"
    },
    "tags": []
   },
   "outputs": [],
   "source": [
    "y_train = train['Survived']"
   ]
  },
  {
   "cell_type": "code",
   "execution_count": 9,
   "id": "7723e49a",
   "metadata": {
    "execution": {
     "iopub.execute_input": "2023-12-28T06:27:38.097695Z",
     "iopub.status.busy": "2023-12-28T06:27:38.097193Z",
     "iopub.status.idle": "2023-12-28T06:27:38.106045Z",
     "shell.execute_reply": "2023-12-28T06:27:38.105041Z"
    },
    "papermill": {
     "duration": 0.026679,
     "end_time": "2023-12-28T06:27:38.108289",
     "exception": false,
     "start_time": "2023-12-28T06:27:38.081610",
     "status": "completed"
    },
    "tags": []
   },
   "outputs": [
    {
     "data": {
      "text/plain": [
       "PassengerId\n",
       "1      0\n",
       "2      1\n",
       "3      1\n",
       "4      1\n",
       "5      0\n",
       "      ..\n",
       "887    0\n",
       "888    1\n",
       "889    0\n",
       "890    1\n",
       "891    0\n",
       "Name: Survived, Length: 891, dtype: int64"
      ]
     },
     "execution_count": 9,
     "metadata": {},
     "output_type": "execute_result"
    }
   ],
   "source": [
    "y_train"
   ]
  },
  {
   "cell_type": "code",
   "execution_count": 10,
   "id": "136a1433",
   "metadata": {
    "execution": {
     "iopub.execute_input": "2023-12-28T06:27:38.138455Z",
     "iopub.status.busy": "2023-12-28T06:27:38.137805Z",
     "iopub.status.idle": "2023-12-28T06:27:38.146622Z",
     "shell.execute_reply": "2023-12-28T06:27:38.145391Z"
    },
    "papermill": {
     "duration": 0.027365,
     "end_time": "2023-12-28T06:27:38.149573",
     "exception": false,
     "start_time": "2023-12-28T06:27:38.122208",
     "status": "completed"
    },
    "tags": []
   },
   "outputs": [],
   "source": [
    "train.drop(labels=\"Survived\",axis=1,inplace=True)"
   ]
  },
  {
   "cell_type": "code",
   "execution_count": 11,
   "id": "e94416e0",
   "metadata": {
    "execution": {
     "iopub.execute_input": "2023-12-28T06:27:38.180722Z",
     "iopub.status.busy": "2023-12-28T06:27:38.179600Z",
     "iopub.status.idle": "2023-12-28T06:27:38.185943Z",
     "shell.execute_reply": "2023-12-28T06:27:38.185136Z"
    },
    "papermill": {
     "duration": 0.023899,
     "end_time": "2023-12-28T06:27:38.188142",
     "exception": false,
     "start_time": "2023-12-28T06:27:38.164243",
     "status": "completed"
    },
    "tags": []
   },
   "outputs": [
    {
     "data": {
      "text/plain": [
       "(891, 10)"
      ]
     },
     "execution_count": 11,
     "metadata": {},
     "output_type": "execute_result"
    }
   ],
   "source": [
    "train.shape"
   ]
  },
  {
   "cell_type": "code",
   "execution_count": 12,
   "id": "ac0bac10",
   "metadata": {
    "execution": {
     "iopub.execute_input": "2023-12-28T06:27:38.218701Z",
     "iopub.status.busy": "2023-12-28T06:27:38.217989Z",
     "iopub.status.idle": "2023-12-28T06:27:38.225031Z",
     "shell.execute_reply": "2023-12-28T06:27:38.224002Z"
    },
    "papermill": {
     "duration": 0.024887,
     "end_time": "2023-12-28T06:27:38.227369",
     "exception": false,
     "start_time": "2023-12-28T06:27:38.202482",
     "status": "completed"
    },
    "tags": []
   },
   "outputs": [],
   "source": [
    "train_test = pd.concat([train, test])"
   ]
  },
  {
   "cell_type": "markdown",
   "id": "1710922a",
   "metadata": {
    "papermill": {
     "duration": 0.014184,
     "end_time": "2023-12-28T06:27:38.255617",
     "exception": false,
     "start_time": "2023-12-28T06:27:38.241433",
     "status": "completed"
    },
    "tags": []
   },
   "source": [
    "# Remove Columns"
   ]
  },
  {
   "cell_type": "code",
   "execution_count": 13,
   "id": "d14ffbd4",
   "metadata": {
    "execution": {
     "iopub.execute_input": "2023-12-28T06:27:38.286721Z",
     "iopub.status.busy": "2023-12-28T06:27:38.286041Z",
     "iopub.status.idle": "2023-12-28T06:27:38.292460Z",
     "shell.execute_reply": "2023-12-28T06:27:38.291556Z"
    },
    "papermill": {
     "duration": 0.025112,
     "end_time": "2023-12-28T06:27:38.294858",
     "exception": false,
     "start_time": "2023-12-28T06:27:38.269746",
     "status": "completed"
    },
    "tags": []
   },
   "outputs": [],
   "source": [
    "# Removed columns \"Name\", \"Age\", \"SibSp\", \"Ticket\", \"Cabin\", \"Parch\", and \"Embarked\"\n",
    "\n",
    "columns_to_drop = ['Name','Age','SibSp','Ticket','Cabin','Parch','Embarked']\n",
    "train_test.drop(labels=columns_to_drop, axis=1, inplace=True)"
   ]
  },
  {
   "cell_type": "code",
   "execution_count": 14,
   "id": "0284b9c8",
   "metadata": {
    "execution": {
     "iopub.execute_input": "2023-12-28T06:27:38.389263Z",
     "iopub.status.busy": "2023-12-28T06:27:38.388508Z",
     "iopub.status.idle": "2023-12-28T06:27:38.402786Z",
     "shell.execute_reply": "2023-12-28T06:27:38.401437Z"
    },
    "papermill": {
     "duration": 0.09668,
     "end_time": "2023-12-28T06:27:38.405635",
     "exception": false,
     "start_time": "2023-12-28T06:27:38.308955",
     "status": "completed"
    },
    "tags": []
   },
   "outputs": [
    {
     "data": {
      "text/html": [
       "<div>\n",
       "<style scoped>\n",
       "    .dataframe tbody tr th:only-of-type {\n",
       "        vertical-align: middle;\n",
       "    }\n",
       "\n",
       "    .dataframe tbody tr th {\n",
       "        vertical-align: top;\n",
       "    }\n",
       "\n",
       "    .dataframe thead th {\n",
       "        text-align: right;\n",
       "    }\n",
       "</style>\n",
       "<table border=\"1\" class=\"dataframe\">\n",
       "  <thead>\n",
       "    <tr style=\"text-align: right;\">\n",
       "      <th></th>\n",
       "      <th>Pclass</th>\n",
       "      <th>Sex</th>\n",
       "      <th>Fare</th>\n",
       "    </tr>\n",
       "    <tr>\n",
       "      <th>PassengerId</th>\n",
       "      <th></th>\n",
       "      <th></th>\n",
       "      <th></th>\n",
       "    </tr>\n",
       "  </thead>\n",
       "  <tbody>\n",
       "    <tr>\n",
       "      <th>1</th>\n",
       "      <td>3</td>\n",
       "      <td>male</td>\n",
       "      <td>7.2500</td>\n",
       "    </tr>\n",
       "    <tr>\n",
       "      <th>2</th>\n",
       "      <td>1</td>\n",
       "      <td>female</td>\n",
       "      <td>71.2833</td>\n",
       "    </tr>\n",
       "    <tr>\n",
       "      <th>3</th>\n",
       "      <td>3</td>\n",
       "      <td>female</td>\n",
       "      <td>7.9250</td>\n",
       "    </tr>\n",
       "    <tr>\n",
       "      <th>4</th>\n",
       "      <td>1</td>\n",
       "      <td>female</td>\n",
       "      <td>53.1000</td>\n",
       "    </tr>\n",
       "    <tr>\n",
       "      <th>5</th>\n",
       "      <td>3</td>\n",
       "      <td>male</td>\n",
       "      <td>8.0500</td>\n",
       "    </tr>\n",
       "    <tr>\n",
       "      <th>...</th>\n",
       "      <td>...</td>\n",
       "      <td>...</td>\n",
       "      <td>...</td>\n",
       "    </tr>\n",
       "    <tr>\n",
       "      <th>1305</th>\n",
       "      <td>3</td>\n",
       "      <td>male</td>\n",
       "      <td>8.0500</td>\n",
       "    </tr>\n",
       "    <tr>\n",
       "      <th>1306</th>\n",
       "      <td>1</td>\n",
       "      <td>female</td>\n",
       "      <td>108.9000</td>\n",
       "    </tr>\n",
       "    <tr>\n",
       "      <th>1307</th>\n",
       "      <td>3</td>\n",
       "      <td>male</td>\n",
       "      <td>7.2500</td>\n",
       "    </tr>\n",
       "    <tr>\n",
       "      <th>1308</th>\n",
       "      <td>3</td>\n",
       "      <td>male</td>\n",
       "      <td>8.0500</td>\n",
       "    </tr>\n",
       "    <tr>\n",
       "      <th>1309</th>\n",
       "      <td>3</td>\n",
       "      <td>male</td>\n",
       "      <td>22.3583</td>\n",
       "    </tr>\n",
       "  </tbody>\n",
       "</table>\n",
       "<p>1309 rows × 3 columns</p>\n",
       "</div>"
      ],
      "text/plain": [
       "             Pclass     Sex      Fare\n",
       "PassengerId                          \n",
       "1                 3    male    7.2500\n",
       "2                 1  female   71.2833\n",
       "3                 3  female    7.9250\n",
       "4                 1  female   53.1000\n",
       "5                 3    male    8.0500\n",
       "...             ...     ...       ...\n",
       "1305              3    male    8.0500\n",
       "1306              1  female  108.9000\n",
       "1307              3    male    7.2500\n",
       "1308              3    male    8.0500\n",
       "1309              3    male   22.3583\n",
       "\n",
       "[1309 rows x 3 columns]"
      ]
     },
     "execution_count": 14,
     "metadata": {},
     "output_type": "execute_result"
    }
   ],
   "source": [
    "train_test"
   ]
  },
  {
   "cell_type": "markdown",
   "id": "ddfa1e9b",
   "metadata": {
    "papermill": {
     "duration": 0.014194,
     "end_time": "2023-12-28T06:27:38.434788",
     "exception": false,
     "start_time": "2023-12-28T06:27:38.420594",
     "status": "completed"
    },
    "tags": []
   },
   "source": [
    "# Convert objects to numbers with pandas.get_dummies"
   ]
  },
  {
   "cell_type": "code",
   "execution_count": 15,
   "id": "96ecf2ff",
   "metadata": {
    "execution": {
     "iopub.execute_input": "2023-12-28T06:27:38.465683Z",
     "iopub.status.busy": "2023-12-28T06:27:38.465245Z",
     "iopub.status.idle": "2023-12-28T06:27:38.476049Z",
     "shell.execute_reply": "2023-12-28T06:27:38.474877Z"
    },
    "papermill": {
     "duration": 0.029582,
     "end_time": "2023-12-28T06:27:38.479012",
     "exception": false,
     "start_time": "2023-12-28T06:27:38.449430",
     "status": "completed"
    },
    "tags": []
   },
   "outputs": [],
   "source": [
    "train_test_dummies = pd.get_dummies(train_test, columns=['Sex'])"
   ]
  },
  {
   "cell_type": "code",
   "execution_count": 16,
   "id": "b5e85bae",
   "metadata": {
    "execution": {
     "iopub.execute_input": "2023-12-28T06:27:38.510223Z",
     "iopub.status.busy": "2023-12-28T06:27:38.509824Z",
     "iopub.status.idle": "2023-12-28T06:27:38.516738Z",
     "shell.execute_reply": "2023-12-28T06:27:38.515522Z"
    },
    "papermill": {
     "duration": 0.025315,
     "end_time": "2023-12-28T06:27:38.519081",
     "exception": false,
     "start_time": "2023-12-28T06:27:38.493766",
     "status": "completed"
    },
    "tags": []
   },
   "outputs": [
    {
     "data": {
      "text/plain": [
       "(1309, 4)"
      ]
     },
     "execution_count": 16,
     "metadata": {},
     "output_type": "execute_result"
    }
   ],
   "source": [
    "train_test_dummies.shape"
   ]
  },
  {
   "cell_type": "markdown",
   "id": "c6d13e41",
   "metadata": {
    "papermill": {
     "duration": 0.014872,
     "end_time": "2023-12-28T06:27:38.548625",
     "exception": false,
     "start_time": "2023-12-28T06:27:38.533753",
     "status": "completed"
    },
    "tags": []
   },
   "source": [
    "# Chech for Null Value"
   ]
  },
  {
   "cell_type": "code",
   "execution_count": 17,
   "id": "486f2c41",
   "metadata": {
    "execution": {
     "iopub.execute_input": "2023-12-28T06:27:38.580289Z",
     "iopub.status.busy": "2023-12-28T06:27:38.579852Z",
     "iopub.status.idle": "2023-12-28T06:27:38.589075Z",
     "shell.execute_reply": "2023-12-28T06:27:38.587980Z"
    },
    "papermill": {
     "duration": 0.02805,
     "end_time": "2023-12-28T06:27:38.591375",
     "exception": false,
     "start_time": "2023-12-28T06:27:38.563325",
     "status": "completed"
    },
    "tags": []
   },
   "outputs": [
    {
     "data": {
      "text/plain": [
       "Pclass        0\n",
       "Fare          1\n",
       "Sex_female    0\n",
       "Sex_male      0\n",
       "dtype: int64"
      ]
     },
     "execution_count": 17,
     "metadata": {},
     "output_type": "execute_result"
    }
   ],
   "source": [
    "train_test_dummies.isnull().sum()"
   ]
  },
  {
   "cell_type": "code",
   "execution_count": 18,
   "id": "ca973eac",
   "metadata": {
    "execution": {
     "iopub.execute_input": "2023-12-28T06:27:38.622760Z",
     "iopub.status.busy": "2023-12-28T06:27:38.622203Z",
     "iopub.status.idle": "2023-12-28T06:27:38.632138Z",
     "shell.execute_reply": "2023-12-28T06:27:38.630950Z"
    },
    "papermill": {
     "duration": 0.028908,
     "end_time": "2023-12-28T06:27:38.635042",
     "exception": false,
     "start_time": "2023-12-28T06:27:38.606134",
     "status": "completed"
    },
    "tags": []
   },
   "outputs": [
    {
     "data": {
      "text/plain": [
       "Pclass        0\n",
       "Fare          0\n",
       "Sex_female    0\n",
       "Sex_male      0\n",
       "dtype: int64"
      ]
     },
     "execution_count": 18,
     "metadata": {},
     "output_type": "execute_result"
    }
   ],
   "source": [
    "# FILL NULL VALUE WITH 0.0\n",
    "\n",
    "train_test_dummies.fillna(value=0.0, inplace=True)\n",
    "train_test_dummies.isnull().sum()"
   ]
  },
  {
   "cell_type": "code",
   "execution_count": 19,
   "id": "f67d8773",
   "metadata": {
    "execution": {
     "iopub.execute_input": "2023-12-28T06:27:38.667186Z",
     "iopub.status.busy": "2023-12-28T06:27:38.666787Z",
     "iopub.status.idle": "2023-12-28T06:27:38.674761Z",
     "shell.execute_reply": "2023-12-28T06:27:38.673752Z"
    },
    "papermill": {
     "duration": 0.027275,
     "end_time": "2023-12-28T06:27:38.677574",
     "exception": false,
     "start_time": "2023-12-28T06:27:38.650299",
     "status": "completed"
    },
    "tags": []
   },
   "outputs": [],
   "source": [
    "X_train = train_test_dummies.values[0:891]\n",
    "X_test = train_test_dummies.values[891:]"
   ]
  },
  {
   "cell_type": "markdown",
   "id": "646eecef",
   "metadata": {
    "papermill": {
     "duration": 0.014706,
     "end_time": "2023-12-28T06:27:38.707696",
     "exception": false,
     "start_time": "2023-12-28T06:27:38.692990",
     "status": "completed"
    },
    "tags": []
   },
   "source": [
    "# Transformed data with MinMaxScaler() method"
   ]
  },
  {
   "cell_type": "code",
   "execution_count": 20,
   "id": "20bd47e4",
   "metadata": {
    "execution": {
     "iopub.execute_input": "2023-12-28T06:27:38.740080Z",
     "iopub.status.busy": "2023-12-28T06:27:38.739647Z",
     "iopub.status.idle": "2023-12-28T06:27:38.747713Z",
     "shell.execute_reply": "2023-12-28T06:27:38.746436Z"
    },
    "papermill": {
     "duration": 0.027267,
     "end_time": "2023-12-28T06:27:38.750162",
     "exception": false,
     "start_time": "2023-12-28T06:27:38.722895",
     "status": "completed"
    },
    "tags": []
   },
   "outputs": [],
   "source": [
    "scaler=MinMaxScaler()\n",
    "X_train_scale = scaler.fit_transform(X_train)\n",
    "X_test_scale = scaler.transform(X_test)"
   ]
  },
  {
   "cell_type": "markdown",
   "id": "9b584311",
   "metadata": {
    "papermill": {
     "duration": 0.014506,
     "end_time": "2023-12-28T06:27:38.779702",
     "exception": false,
     "start_time": "2023-12-28T06:27:38.765196",
     "status": "completed"
    },
    "tags": []
   },
   "source": [
    "# Randomly splited training set into train and validation subsets"
   ]
  },
  {
   "cell_type": "code",
   "execution_count": 21,
   "id": "ce21aec0",
   "metadata": {
    "execution": {
     "iopub.execute_input": "2023-12-28T06:27:38.812063Z",
     "iopub.status.busy": "2023-12-28T06:27:38.811279Z",
     "iopub.status.idle": "2023-12-28T06:27:38.820655Z",
     "shell.execute_reply": "2023-12-28T06:27:38.819524Z"
    },
    "papermill": {
     "duration": 0.028636,
     "end_time": "2023-12-28T06:27:38.823342",
     "exception": false,
     "start_time": "2023-12-28T06:27:38.794706",
     "status": "completed"
    },
    "tags": []
   },
   "outputs": [],
   "source": [
    "from sklearn.model_selection import train_test_split\n",
    "X_train_sub, X_validation_sub, y_train_sub, y_validation_sub = train_test_split(X_train_scale, y_train, random_state=0)"
   ]
  },
  {
   "cell_type": "markdown",
   "id": "e9b52baa",
   "metadata": {
    "papermill": {
     "duration": 0.015107,
     "end_time": "2023-12-28T06:27:38.853497",
     "exception": false,
     "start_time": "2023-12-28T06:27:38.838390",
     "status": "completed"
    },
    "tags": []
   },
   "source": [
    "# Build the model"
   ]
  },
  {
   "cell_type": "code",
   "execution_count": 22,
   "id": "89bd5996",
   "metadata": {
    "execution": {
     "iopub.execute_input": "2023-12-28T06:27:38.887623Z",
     "iopub.status.busy": "2023-12-28T06:27:38.887147Z",
     "iopub.status.idle": "2023-12-28T06:27:38.892941Z",
     "shell.execute_reply": "2023-12-28T06:27:38.891621Z"
    },
    "papermill": {
     "duration": 0.025756,
     "end_time": "2023-12-28T06:27:38.895520",
     "exception": false,
     "start_time": "2023-12-28T06:27:38.869764",
     "status": "completed"
    },
    "tags": []
   },
   "outputs": [],
   "source": [
    "learning_rates = [0.05, 0.1, 0.25, 0.5, 0.75, 1]"
   ]
  },
  {
   "cell_type": "code",
   "execution_count": 23,
   "id": "2b990223",
   "metadata": {
    "execution": {
     "iopub.execute_input": "2023-12-28T06:27:38.928235Z",
     "iopub.status.busy": "2023-12-28T06:27:38.927404Z",
     "iopub.status.idle": "2023-12-28T06:27:39.198324Z",
     "shell.execute_reply": "2023-12-28T06:27:39.196777Z"
    },
    "papermill": {
     "duration": 0.289925,
     "end_time": "2023-12-28T06:27:39.201051",
     "exception": false,
     "start_time": "2023-12-28T06:27:38.911126",
     "status": "completed"
    },
    "tags": []
   },
   "outputs": [
    {
     "name": "stdout",
     "output_type": "stream",
     "text": [
      "Learning rate: 0.05\n",
      "Confusion Matrix (training):\n",
      "[[353  57]\n",
      " [ 84 174]]\n",
      "\n",
      "Classification Report (training):\n",
      "              precision    recall  f1-score   support\n",
      "\n",
      "           0       0.81      0.86      0.83       410\n",
      "           1       0.75      0.67      0.71       258\n",
      "\n",
      "    accuracy                           0.79       668\n",
      "   macro avg       0.78      0.77      0.77       668\n",
      "weighted avg       0.79      0.79      0.79       668\n",
      "\n",
      "\n",
      "Confusion Matrix (validation):\n",
      "[[115  24]\n",
      " [ 25  59]]\n",
      "\n",
      "Classification Report (validation):\n",
      "              precision    recall  f1-score   support\n",
      "\n",
      "           0       0.82      0.83      0.82       139\n",
      "           1       0.71      0.70      0.71        84\n",
      "\n",
      "    accuracy                           0.78       223\n",
      "   macro avg       0.77      0.76      0.77       223\n",
      "weighted avg       0.78      0.78      0.78       223\n",
      "\n",
      "\n",
      "Learning rate: 0.1\n",
      "Confusion Matrix (training):\n",
      "[[353  57]\n",
      " [ 82 176]]\n",
      "\n",
      "Classification Report (training):\n",
      "              precision    recall  f1-score   support\n",
      "\n",
      "           0       0.81      0.86      0.84       410\n",
      "           1       0.76      0.68      0.72       258\n",
      "\n",
      "    accuracy                           0.79       668\n",
      "   macro avg       0.78      0.77      0.78       668\n",
      "weighted avg       0.79      0.79      0.79       668\n",
      "\n",
      "\n",
      "Confusion Matrix (validation):\n",
      "[[115  24]\n",
      " [ 25  59]]\n",
      "\n",
      "Classification Report (validation):\n",
      "              precision    recall  f1-score   support\n",
      "\n",
      "           0       0.82      0.83      0.82       139\n",
      "           1       0.71      0.70      0.71        84\n",
      "\n",
      "    accuracy                           0.78       223\n",
      "   macro avg       0.77      0.76      0.77       223\n",
      "weighted avg       0.78      0.78      0.78       223\n",
      "\n",
      "\n",
      "Learning rate: 0.25\n",
      "Confusion Matrix (training):\n",
      "[[372  38]\n",
      " [ 85 173]]\n",
      "\n",
      "Classification Report (training):\n",
      "              precision    recall  f1-score   support\n",
      "\n",
      "           0       0.81      0.91      0.86       410\n",
      "           1       0.82      0.67      0.74       258\n",
      "\n",
      "    accuracy                           0.82       668\n",
      "   macro avg       0.82      0.79      0.80       668\n",
      "weighted avg       0.82      0.82      0.81       668\n",
      "\n",
      "\n",
      "Confusion Matrix (validation):\n",
      "[[120  19]\n",
      " [ 25  59]]\n",
      "\n",
      "Classification Report (validation):\n",
      "              precision    recall  f1-score   support\n",
      "\n",
      "           0       0.83      0.86      0.85       139\n",
      "           1       0.76      0.70      0.73        84\n",
      "\n",
      "    accuracy                           0.80       223\n",
      "   macro avg       0.79      0.78      0.79       223\n",
      "weighted avg       0.80      0.80      0.80       223\n",
      "\n",
      "\n",
      "Learning rate: 0.5\n",
      "Confusion Matrix (training):\n",
      "[[383  27]\n",
      " [ 89 169]]\n",
      "\n",
      "Classification Report (training):\n",
      "              precision    recall  f1-score   support\n",
      "\n",
      "           0       0.81      0.93      0.87       410\n",
      "           1       0.86      0.66      0.74       258\n",
      "\n",
      "    accuracy                           0.83       668\n",
      "   macro avg       0.84      0.79      0.81       668\n",
      "weighted avg       0.83      0.83      0.82       668\n",
      "\n",
      "\n",
      "Confusion Matrix (validation):\n",
      "[[131   8]\n",
      " [ 29  55]]\n",
      "\n",
      "Classification Report (validation):\n",
      "              precision    recall  f1-score   support\n",
      "\n",
      "           0       0.82      0.94      0.88       139\n",
      "           1       0.87      0.65      0.75        84\n",
      "\n",
      "    accuracy                           0.83       223\n",
      "   macro avg       0.85      0.80      0.81       223\n",
      "weighted avg       0.84      0.83      0.83       223\n",
      "\n",
      "\n",
      "Learning rate: 0.75\n",
      "Confusion Matrix (training):\n",
      "[[367  43]\n",
      " [ 70 188]]\n",
      "\n",
      "Classification Report (training):\n",
      "              precision    recall  f1-score   support\n",
      "\n",
      "           0       0.84      0.90      0.87       410\n",
      "           1       0.81      0.73      0.77       258\n",
      "\n",
      "    accuracy                           0.83       668\n",
      "   macro avg       0.83      0.81      0.82       668\n",
      "weighted avg       0.83      0.83      0.83       668\n",
      "\n",
      "\n",
      "Confusion Matrix (validation):\n",
      "[[115  24]\n",
      " [ 23  61]]\n",
      "\n",
      "Classification Report (validation):\n",
      "              precision    recall  f1-score   support\n",
      "\n",
      "           0       0.83      0.83      0.83       139\n",
      "           1       0.72      0.73      0.72        84\n",
      "\n",
      "    accuracy                           0.79       223\n",
      "   macro avg       0.78      0.78      0.78       223\n",
      "weighted avg       0.79      0.79      0.79       223\n",
      "\n",
      "\n",
      "Learning rate: 1\n",
      "Confusion Matrix (training):\n",
      "[[364  46]\n",
      " [ 67 191]]\n",
      "\n",
      "Classification Report (training):\n",
      "              precision    recall  f1-score   support\n",
      "\n",
      "           0       0.84      0.89      0.87       410\n",
      "           1       0.81      0.74      0.77       258\n",
      "\n",
      "    accuracy                           0.83       668\n",
      "   macro avg       0.83      0.81      0.82       668\n",
      "weighted avg       0.83      0.83      0.83       668\n",
      "\n",
      "\n",
      "Confusion Matrix (validation):\n",
      "[[114  25]\n",
      " [ 22  62]]\n",
      "\n",
      "Classification Report (validation):\n",
      "              precision    recall  f1-score   support\n",
      "\n",
      "           0       0.84      0.82      0.83       139\n",
      "           1       0.71      0.74      0.73        84\n",
      "\n",
      "    accuracy                           0.79       223\n",
      "   macro avg       0.78      0.78      0.78       223\n",
      "weighted avg       0.79      0.79      0.79       223\n",
      "\n",
      "\n"
     ]
    }
   ],
   "source": [
    "def train_and_evaluate(X_train, y_train, X_validation, y_validation, learning_rate):\n",
    "    gb = GradientBoostingClassifier(n_estimators=20, learning_rate=learning_rate, max_features=2, max_depth=2, random_state=0)\n",
    "    gb.fit(X_train, y_train)\n",
    "    \n",
    "    print(\"Learning rate:\", learning_rate)\n",
    "    \n",
    "    # Make predictions on training and validation sets\n",
    "    y_train_pred = gb.predict(X_train)\n",
    "    y_validation_pred = gb.predict(X_validation)\n",
    "    \n",
    "    # Display confusion matrix and classification report\n",
    "    print(\"Confusion Matrix (training):\")\n",
    "    print(confusion_matrix(y_train, y_train_pred))\n",
    "    \n",
    "    print(\"\\nClassification Report (training):\")\n",
    "    print(classification_report(y_train, y_train_pred))\n",
    "    \n",
    "    print(\"\\nConfusion Matrix (validation):\")\n",
    "    print(confusion_matrix(y_validation, y_validation_pred))\n",
    "    \n",
    "    print(\"\\nClassification Report (validation):\")\n",
    "    print(classification_report(y_validation, y_validation_pred))\n",
    "    \n",
    "    print()\n",
    "\n",
    "# learning_rates list\n",
    "for learning_rate in learning_rates:\n",
    "    train_and_evaluate(X_train_sub, y_train_sub, X_validation_sub, y_validation_sub, learning_rate)\n"
   ]
  },
  {
   "cell_type": "code",
   "execution_count": 24,
   "id": "e54bf239",
   "metadata": {
    "execution": {
     "iopub.execute_input": "2023-12-28T06:27:39.239228Z",
     "iopub.status.busy": "2023-12-28T06:27:39.238800Z",
     "iopub.status.idle": "2023-12-28T06:27:39.404971Z",
     "shell.execute_reply": "2023-12-28T06:27:39.403831Z"
    },
    "papermill": {
     "duration": 0.191148,
     "end_time": "2023-12-28T06:27:39.407730",
     "exception": false,
     "start_time": "2023-12-28T06:27:39.216582",
     "status": "completed"
    },
    "tags": []
   },
   "outputs": [
    {
     "name": "stdout",
     "output_type": "stream",
     "text": [
      "Learning rate:  0.05\n",
      "Accuracy score(training): 0.789\n",
      "Accuracy score(validation): 0.780\n",
      "\n",
      "Learning rate:  0.1\n",
      "Accuracy score(training): 0.792\n",
      "Accuracy score(validation): 0.780\n",
      "\n",
      "Learning rate:  0.25\n",
      "Accuracy score(training): 0.816\n",
      "Accuracy score(validation): 0.803\n",
      "\n",
      "Learning rate:  0.5\n",
      "Accuracy score(training): 0.826\n",
      "Accuracy score(validation): 0.834\n",
      "\n",
      "Learning rate:  0.75\n",
      "Accuracy score(training): 0.831\n",
      "Accuracy score(validation): 0.789\n",
      "\n",
      "Learning rate:  1\n",
      "Accuracy score(training): 0.831\n",
      "Accuracy score(validation): 0.789\n",
      "\n"
     ]
    }
   ],
   "source": [
    "learning_rates = [0.05, 0.1, 0.25, 0.5, 0.75, 1]\n",
    "for learning_rate in learning_rates:\n",
    "  gb = GradientBoostingClassifier(n_estimators=20, learning_rate = learning_rate , max_features=2, max_depth = 2, random_state = 0)\n",
    "  gb.fit(X_train_sub, y_train_sub)\n",
    "  print(\"Learning rate: \",learning_rate)\n",
    "  print(\"Accuracy score(training): {0:.3f}\".format(gb.score(X_train_sub, y_train_sub)))\n",
    "  print(\"Accuracy score(validation): {0:.3f}\".format(gb.score(X_validation_sub, y_validation_sub)))\n",
    "  print()"
   ]
  },
  {
   "cell_type": "markdown",
   "id": "efd1032f",
   "metadata": {
    "papermill": {
     "duration": 0.015248,
     "end_time": "2023-12-28T06:27:39.438788",
     "exception": false,
     "start_time": "2023-12-28T06:27:39.423540",
     "status": "completed"
    },
    "tags": []
   },
   "source": [
    "# Best Learning Rate for training the final model"
   ]
  },
  {
   "cell_type": "code",
   "execution_count": 25,
   "id": "50257f84",
   "metadata": {
    "execution": {
     "iopub.execute_input": "2023-12-28T06:27:39.471649Z",
     "iopub.status.busy": "2023-12-28T06:27:39.471256Z",
     "iopub.status.idle": "2023-12-28T06:27:39.508113Z",
     "shell.execute_reply": "2023-12-28T06:27:39.506994Z"
    },
    "papermill": {
     "duration": 0.056363,
     "end_time": "2023-12-28T06:27:39.510839",
     "exception": false,
     "start_time": "2023-12-28T06:27:39.454476",
     "status": "completed"
    },
    "tags": []
   },
   "outputs": [
    {
     "data": {
      "text/plain": [
       "GradientBoostingClassifier(learning_rate=0.5, max_depth=2, max_features=2,\n",
       "                           n_estimators=20, random_state=0)"
      ]
     },
     "execution_count": 25,
     "metadata": {},
     "output_type": "execute_result"
    }
   ],
   "source": [
    "best_learning_rate = 0.5\n",
    "final_model = GradientBoostingClassifier(n_estimators=20, learning_rate=best_learning_rate, max_features=2, max_depth=2, random_state=0)\n",
    "final_model.fit(X_train_scale, y_train)"
   ]
  },
  {
   "cell_type": "markdown",
   "id": "3013183c",
   "metadata": {
    "papermill": {
     "duration": 0.016452,
     "end_time": "2023-12-28T06:27:39.543218",
     "exception": false,
     "start_time": "2023-12-28T06:27:39.526766",
     "status": "completed"
    },
    "tags": []
   },
   "source": [
    "# Make Predictions"
   ]
  },
  {
   "cell_type": "code",
   "execution_count": 26,
   "id": "3ef4ce45",
   "metadata": {
    "execution": {
     "iopub.execute_input": "2023-12-28T06:27:39.577335Z",
     "iopub.status.busy": "2023-12-28T06:27:39.576909Z",
     "iopub.status.idle": "2023-12-28T06:27:39.582538Z",
     "shell.execute_reply": "2023-12-28T06:27:39.581751Z"
    },
    "papermill": {
     "duration": 0.025121,
     "end_time": "2023-12-28T06:27:39.584724",
     "exception": false,
     "start_time": "2023-12-28T06:27:39.559603",
     "status": "completed"
    },
    "tags": []
   },
   "outputs": [],
   "source": [
    "# Make predictions on the test set\n",
    "predictions = final_model.predict(X_test_scale)"
   ]
  },
  {
   "cell_type": "code",
   "execution_count": 27,
   "id": "e914e13f",
   "metadata": {
    "execution": {
     "iopub.execute_input": "2023-12-28T06:27:39.619955Z",
     "iopub.status.busy": "2023-12-28T06:27:39.619481Z",
     "iopub.status.idle": "2023-12-28T06:27:39.624956Z",
     "shell.execute_reply": "2023-12-28T06:27:39.623968Z"
    },
    "papermill": {
     "duration": 0.026133,
     "end_time": "2023-12-28T06:27:39.627335",
     "exception": false,
     "start_time": "2023-12-28T06:27:39.601202",
     "status": "completed"
    },
    "tags": []
   },
   "outputs": [],
   "source": [
    "# Create a DataFrame for the submission\n",
    "submission_df = pd.DataFrame({\n",
    "    'PassengerId': test.index,\n",
    "    'Survived': predictions\n",
    "})"
   ]
  },
  {
   "cell_type": "code",
   "execution_count": 28,
   "id": "95592ee7",
   "metadata": {
    "execution": {
     "iopub.execute_input": "2023-12-28T06:27:39.662147Z",
     "iopub.status.busy": "2023-12-28T06:27:39.661367Z",
     "iopub.status.idle": "2023-12-28T06:27:39.667734Z",
     "shell.execute_reply": "2023-12-28T06:27:39.666797Z"
    },
    "papermill": {
     "duration": 0.026028,
     "end_time": "2023-12-28T06:27:39.669925",
     "exception": false,
     "start_time": "2023-12-28T06:27:39.643897",
     "status": "completed"
    },
    "tags": []
   },
   "outputs": [
    {
     "data": {
      "text/plain": [
       "(418, 2)"
      ]
     },
     "execution_count": 28,
     "metadata": {},
     "output_type": "execute_result"
    }
   ],
   "source": [
    "submission_df.shape"
   ]
  },
  {
   "cell_type": "code",
   "execution_count": 29,
   "id": "e640601a",
   "metadata": {
    "execution": {
     "iopub.execute_input": "2023-12-28T06:27:39.704338Z",
     "iopub.status.busy": "2023-12-28T06:27:39.703612Z",
     "iopub.status.idle": "2023-12-28T06:27:39.713964Z",
     "shell.execute_reply": "2023-12-28T06:27:39.713058Z"
    },
    "papermill": {
     "duration": 0.03041,
     "end_time": "2023-12-28T06:27:39.716429",
     "exception": false,
     "start_time": "2023-12-28T06:27:39.686019",
     "status": "completed"
    },
    "tags": []
   },
   "outputs": [
    {
     "name": "stdout",
     "output_type": "stream",
     "text": [
      "<class 'pandas.core.frame.DataFrame'>\n",
      "RangeIndex: 418 entries, 0 to 417\n",
      "Data columns (total 2 columns):\n",
      " #   Column       Non-Null Count  Dtype\n",
      "---  ------       --------------  -----\n",
      " 0   PassengerId  418 non-null    int64\n",
      " 1   Survived     418 non-null    int64\n",
      "dtypes: int64(2)\n",
      "memory usage: 6.7 KB\n"
     ]
    }
   ],
   "source": [
    "submission_df.info()"
   ]
  },
  {
   "cell_type": "code",
   "execution_count": 30,
   "id": "c6768585",
   "metadata": {
    "execution": {
     "iopub.execute_input": "2023-12-28T06:27:39.750860Z",
     "iopub.status.busy": "2023-12-28T06:27:39.750094Z",
     "iopub.status.idle": "2023-12-28T06:27:39.757645Z",
     "shell.execute_reply": "2023-12-28T06:27:39.756780Z"
    },
    "papermill": {
     "duration": 0.027357,
     "end_time": "2023-12-28T06:27:39.760082",
     "exception": false,
     "start_time": "2023-12-28T06:27:39.732725",
     "status": "completed"
    },
    "tags": []
   },
   "outputs": [
    {
     "data": {
      "text/plain": [
       "0    281\n",
       "1    137\n",
       "Name: Survived, dtype: int64"
      ]
     },
     "execution_count": 30,
     "metadata": {},
     "output_type": "execute_result"
    }
   ],
   "source": [
    "submission_df['Survived'].value_counts()"
   ]
  },
  {
   "cell_type": "code",
   "execution_count": 31,
   "id": "e67c4052",
   "metadata": {
    "execution": {
     "iopub.execute_input": "2023-12-28T06:27:39.794996Z",
     "iopub.status.busy": "2023-12-28T06:27:39.794263Z",
     "iopub.status.idle": "2023-12-28T06:27:39.803879Z",
     "shell.execute_reply": "2023-12-28T06:27:39.802768Z"
    },
    "papermill": {
     "duration": 0.030116,
     "end_time": "2023-12-28T06:27:39.806484",
     "exception": false,
     "start_time": "2023-12-28T06:27:39.776368",
     "status": "completed"
    },
    "tags": []
   },
   "outputs": [],
   "source": [
    "# Save the predictions to a CSV file\n",
    "submission_df.to_csv('submission.csv', index=False)"
   ]
  }
 ],
 "metadata": {
  "kaggle": {
   "accelerator": "none",
   "dataSources": [
    {
     "databundleVersionId": 26502,
     "sourceId": 3136,
     "sourceType": "competition"
    }
   ],
   "dockerImageVersionId": 30626,
   "isGpuEnabled": false,
   "isInternetEnabled": true,
   "language": "python",
   "sourceType": "notebook"
  },
  "kernelspec": {
   "display_name": "Python 3",
   "language": "python",
   "name": "python3"
  },
  "language_info": {
   "codemirror_mode": {
    "name": "ipython",
    "version": 3
   },
   "file_extension": ".py",
   "mimetype": "text/x-python",
   "name": "python",
   "nbconvert_exporter": "python",
   "pygments_lexer": "ipython3",
   "version": "3.9.7"
  },
  "papermill": {
   "default_parameters": {},
   "duration": 8.707864,
   "end_time": "2023-12-28T06:27:40.445868",
   "environment_variables": {},
   "exception": null,
   "input_path": "__notebook__.ipynb",
   "output_path": "__notebook__.ipynb",
   "parameters": {},
   "start_time": "2023-12-28T06:27:31.738004",
   "version": "2.4.0"
  }
 },
 "nbformat": 4,
 "nbformat_minor": 5
}
